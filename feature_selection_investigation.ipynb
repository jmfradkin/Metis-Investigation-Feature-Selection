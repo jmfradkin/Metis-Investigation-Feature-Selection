{
 "cells": [
  {
   "cell_type": "markdown",
   "metadata": {},
   "source": [
    "# Feature Selection Methods"
   ]
  },
  {
   "cell_type": "code",
   "execution_count": 56,
   "metadata": {
    "collapsed": false
   },
   "outputs": [],
   "source": [
    "import pandas as pd\n",
    "import warnings\n",
    "warnings.filterwarnings('ignore')\n",
    "import numpy as np\n",
    "np.set_printoptions(threshold=np.nan)"
   ]
  },
  {
   "cell_type": "code",
   "execution_count": 57,
   "metadata": {
    "collapsed": false
   },
   "outputs": [
    {
     "data": {
      "text/html": [
       "<div>\n",
       "<table border=\"1\" class=\"dataframe\">\n",
       "  <thead>\n",
       "    <tr style=\"text-align: right;\">\n",
       "      <th></th>\n",
       "      <th>fixed acidity</th>\n",
       "      <th>volatile acidity</th>\n",
       "      <th>citric acid</th>\n",
       "      <th>residual sugar</th>\n",
       "      <th>chlorides</th>\n",
       "      <th>free sulfur dioxide</th>\n",
       "      <th>total sulfur dioxide</th>\n",
       "      <th>density</th>\n",
       "      <th>pH</th>\n",
       "      <th>sulphates</th>\n",
       "      <th>alcohol</th>\n",
       "      <th>quality</th>\n",
       "    </tr>\n",
       "  </thead>\n",
       "  <tbody>\n",
       "    <tr>\n",
       "      <th>0</th>\n",
       "      <td>7.4</td>\n",
       "      <td>0.70</td>\n",
       "      <td>0.00</td>\n",
       "      <td>1.9</td>\n",
       "      <td>0.076</td>\n",
       "      <td>11</td>\n",
       "      <td>34</td>\n",
       "      <td>0.9978</td>\n",
       "      <td>3.51</td>\n",
       "      <td>0.56</td>\n",
       "      <td>9.4</td>\n",
       "      <td>0</td>\n",
       "    </tr>\n",
       "    <tr>\n",
       "      <th>1</th>\n",
       "      <td>7.8</td>\n",
       "      <td>0.88</td>\n",
       "      <td>0.00</td>\n",
       "      <td>2.6</td>\n",
       "      <td>0.098</td>\n",
       "      <td>25</td>\n",
       "      <td>67</td>\n",
       "      <td>0.9968</td>\n",
       "      <td>3.20</td>\n",
       "      <td>0.68</td>\n",
       "      <td>9.8</td>\n",
       "      <td>0</td>\n",
       "    </tr>\n",
       "    <tr>\n",
       "      <th>2</th>\n",
       "      <td>7.8</td>\n",
       "      <td>0.76</td>\n",
       "      <td>0.04</td>\n",
       "      <td>2.3</td>\n",
       "      <td>0.092</td>\n",
       "      <td>15</td>\n",
       "      <td>54</td>\n",
       "      <td>0.9970</td>\n",
       "      <td>3.26</td>\n",
       "      <td>0.65</td>\n",
       "      <td>9.8</td>\n",
       "      <td>0</td>\n",
       "    </tr>\n",
       "    <tr>\n",
       "      <th>3</th>\n",
       "      <td>11.2</td>\n",
       "      <td>0.28</td>\n",
       "      <td>0.56</td>\n",
       "      <td>1.9</td>\n",
       "      <td>0.075</td>\n",
       "      <td>17</td>\n",
       "      <td>60</td>\n",
       "      <td>0.9980</td>\n",
       "      <td>3.16</td>\n",
       "      <td>0.58</td>\n",
       "      <td>9.8</td>\n",
       "      <td>1</td>\n",
       "    </tr>\n",
       "    <tr>\n",
       "      <th>4</th>\n",
       "      <td>7.4</td>\n",
       "      <td>0.70</td>\n",
       "      <td>0.00</td>\n",
       "      <td>1.9</td>\n",
       "      <td>0.076</td>\n",
       "      <td>11</td>\n",
       "      <td>34</td>\n",
       "      <td>0.9978</td>\n",
       "      <td>3.51</td>\n",
       "      <td>0.56</td>\n",
       "      <td>9.4</td>\n",
       "      <td>0</td>\n",
       "    </tr>\n",
       "  </tbody>\n",
       "</table>\n",
       "</div>"
      ],
      "text/plain": [
       "   fixed acidity  volatile acidity  citric acid  residual sugar  chlorides  \\\n",
       "0            7.4              0.70         0.00             1.9      0.076   \n",
       "1            7.8              0.88         0.00             2.6      0.098   \n",
       "2            7.8              0.76         0.04             2.3      0.092   \n",
       "3           11.2              0.28         0.56             1.9      0.075   \n",
       "4            7.4              0.70         0.00             1.9      0.076   \n",
       "\n",
       "   free sulfur dioxide  total sulfur dioxide  density    pH  sulphates  \\\n",
       "0                   11                    34   0.9978  3.51       0.56   \n",
       "1                   25                    67   0.9968  3.20       0.68   \n",
       "2                   15                    54   0.9970  3.26       0.65   \n",
       "3                   17                    60   0.9980  3.16       0.58   \n",
       "4                   11                    34   0.9978  3.51       0.56   \n",
       "\n",
       "   alcohol  quality  \n",
       "0      9.4        0  \n",
       "1      9.8        0  \n",
       "2      9.8        0  \n",
       "3      9.8        1  \n",
       "4      9.4        0  "
      ]
     },
     "execution_count": 57,
     "metadata": {},
     "output_type": "execute_result"
    }
   ],
   "source": [
    "wine=pd.read_csv('winequality-red.csv',sep=';')\n",
    "wine['quality']=wine['quality'].replace(6,1).replace(7,1).replace(8,1).replace(3,0).replace(4,0).replace(5,0)\n",
    "wine.head()"
   ]
  },
  {
   "cell_type": "code",
   "execution_count": 58,
   "metadata": {
    "collapsed": false
   },
   "outputs": [
    {
     "data": {
      "text/plain": [
       "1599"
      ]
     },
     "execution_count": 58,
     "metadata": {},
     "output_type": "execute_result"
    }
   ],
   "source": [
    "len(wine)"
   ]
  },
  {
   "cell_type": "code",
   "execution_count": 59,
   "metadata": {
    "collapsed": true
   },
   "outputs": [],
   "source": [
    "from sklearn.cross_validation import train_test_split\n",
    "\n",
    "train, test = train_test_split(wine, test_size = 0.30, random_state=4444)\n",
    "x_train=train.iloc[:,:11]\n",
    "y_train=train.iloc[:,11]\n",
    "x_test=test.iloc[:,:11]\n",
    "y_test=test.iloc[:,11]\n",
    "x=wine.iloc[:,:11]\n",
    "y=wine.iloc[:,11]"
   ]
  },
  {
   "cell_type": "markdown",
   "metadata": {},
   "source": [
    "# PCA"
   ]
  },
  {
   "cell_type": "markdown",
   "metadata": {},
   "source": [
    "-PCA uses an orthogonal transformation to convert a set of observations of possibly correlated variables into a set of values of linearly uncorrelated variables (principal components).  \n",
    "\n",
    "-Number of principal components is <= number of original variables.  \n",
    "\n",
    "-First principal component has the largest possible variance (that is, accounts for as much of the variability in the data as possible), and each succeeding component has the highest variance possible under the constraint that it is orthogonal to the preceding components. The resulting vectors are an uncorrelated orthogonal basis set. \n",
    "\n",
    "[Thanks wikipedia!](https://en.wikipedia.org/wiki/Principal_component_analysis)"
   ]
  },
  {
   "cell_type": "markdown",
   "metadata": {},
   "source": [
    "Import the model: "
   ]
  },
  {
   "cell_type": "code",
   "execution_count": 60,
   "metadata": {
    "collapsed": true
   },
   "outputs": [],
   "source": [
    "from sklearn.decomposition import PCA"
   ]
  },
  {
   "cell_type": "markdown",
   "metadata": {},
   "source": [
    "Instantiate the model:"
   ]
  },
  {
   "cell_type": "code",
   "execution_count": 61,
   "metadata": {
    "collapsed": false
   },
   "outputs": [],
   "source": [
    "#Set number of components to keep\n",
    "pca = PCA(n_components=3)"
   ]
  },
  {
   "cell_type": "markdown",
   "metadata": {},
   "source": [
    "Fit to training data: "
   ]
  },
  {
   "cell_type": "code",
   "execution_count": 62,
   "metadata": {
    "collapsed": false
   },
   "outputs": [
    {
     "name": "stdout",
     "output_type": "stream",
     "text": [
      "(1599, 11)\n"
     ]
    }
   ],
   "source": [
    "pca.fit(x)\n",
    "\n",
    "print(x.shape)"
   ]
  },
  {
   "cell_type": "markdown",
   "metadata": {},
   "source": [
    "Transform to lower dimensional representation: "
   ]
  },
  {
   "cell_type": "code",
   "execution_count": 63,
   "metadata": {
    "collapsed": false
   },
   "outputs": [
    {
     "data": {
      "text/plain": [
       "(1599, 3)"
      ]
     },
     "execution_count": 63,
     "metadata": {},
     "output_type": "execute_result"
    }
   ],
   "source": [
    "X_pca = pca.transform(x)\n",
    "X_pca.shape"
   ]
  },
  {
   "cell_type": "code",
   "execution_count": 64,
   "metadata": {
    "collapsed": false
   },
   "outputs": [
    {
     "data": {
      "text/plain": [
       "array([[ 13.22490501,  -2.02389981,   1.12682053],\n",
       "       [-22.03772361,   4.40832155,   0.31037799],\n",
       "       [ -7.16267333,  -2.50146086,   0.5818683 ],\n",
       "       [-13.43006283,  -1.95112215,  -2.63403954],\n",
       "       [ 13.22490501,  -2.02389981,   1.12682053],\n",
       "       [  6.93400027,  -1.38790176,   1.12127705],\n",
       "       [-12.03682832,  -3.61177553,   0.67163691],\n",
       "       [ 25.04255804,   4.72607199,   1.33781652],\n",
       "       [ 29.2756982 ,  -0.47905559,   0.72624845],\n",
       "       [-54.46316749, -10.99931637,  -0.16155938]])"
      ]
     },
     "execution_count": 64,
     "metadata": {},
     "output_type": "execute_result"
    }
   ],
   "source": [
    "X_pca[:10]"
   ]
  },
  {
   "cell_type": "markdown",
   "metadata": {},
   "source": [
    "Find percentage of variance explained by the selected components:"
   ]
  },
  {
   "cell_type": "code",
   "execution_count": 65,
   "metadata": {
    "collapsed": false
   },
   "outputs": [
    {
     "name": "stdout",
     "output_type": "stream",
     "text": [
      "[ 0.94657698  0.0483683   0.00258917]\n",
      "0.997534452799\n"
     ]
    }
   ],
   "source": [
    "print pca.explained_variance_ratio_\n",
    "print pca.explained_variance_ratio_.sum()"
   ]
  },
  {
   "cell_type": "code",
   "execution_count": 66,
   "metadata": {
    "collapsed": false
   },
   "outputs": [
    {
     "data": {
      "text/plain": [
       "<matplotlib.axes._subplots.AxesSubplot at 0x10e017e50>"
      ]
     },
     "execution_count": 66,
     "metadata": {},
     "output_type": "execute_result"
    },
    {
     "data": {
      "image/png": "[encoded data removed]",
      "text/plain": [
       "<matplotlib.figure.Figure at 0x10d781310>"
      ]
     },
     "metadata": {},
     "output_type": "display_data"
    }
   ],
   "source": [
    "df = pd.DataFrame.from_records([map(float,pca.explained_variance_ratio_)])\n",
    "df.plot(kind='bar')"
   ]
  },
  {
   "cell_type": "code",
   "execution_count": 67,
   "metadata": {
    "collapsed": false
   },
   "outputs": [
    {
     "data": {
      "image/png": "[encoded data removed]",
      "text/plain": [
       "<matplotlib.figure.Figure at 0x10c482210>"
      ]
     },
     "metadata": {},
     "output_type": "display_data"
    }
   ],
   "source": [
    "import matplotlib.pyplot as plt\n",
    "%matplotlib inline\n",
    "\n",
    "plt.scatter(X_pca[:, 0], X_pca[:, 1], c=y,cmap=plt.cm.Paired)\n",
    "plt.xlabel('Principal Component #1')\n",
    "plt.ylabel('Principal Component #2')\n",
    "plt.legend()"
   ]
  },
  {
   "cell_type": "code",
   "execution_count": 68,
   "metadata": {
    "collapsed": false
   },
   "outputs": [
    {
     "data": {
      "text/plain": [
       "[]"
      ]
     },
     "execution_count": 68,
     "metadata": {},
     "output_type": "execute_result"
    },
    {
     "data": {
      "image/png": "[encoded data removed]",
      "text/plain": [
       "<matplotlib.figure.Figure at 0x10c44aa90>"
      ]
     },
     "metadata": {},
     "output_type": "display_data"
    }
   ],
   "source": [
    "from mpl_toolkits.mplot3d import Axes3D\n",
    "\n",
    "fig = plt.figure(1, figsize=(8, 6))\n",
    "ax = Axes3D(fig, elev=-150, azim=110)\n",
    "X_reduced = PCA(n_components=3).fit_transform(x,y)\n",
    "ax.scatter(X_reduced[:, 0], X_reduced[:, 1], X_reduced[:, 2], c=y,\n",
    "           cmap=plt.cm.Paired)\n",
    "ax.set_title(\"First three PCA directions\")\n",
    "ax.set_xlabel(\"Principal Component #1\")\n",
    "ax.w_xaxis.set_ticklabels([])\n",
    "ax.set_ylabel(\"Principal Component #2\")\n",
    "ax.w_yaxis.set_ticklabels([])\n",
    "ax.set_zlabel(\"Principal Component #3\")\n",
    "ax.w_zaxis.set_ticklabels([])\n"
   ]
  },
  {
   "cell_type": "markdown",
   "metadata": {},
   "source": [
    "# Feature importances with tree-based methods:"
   ]
  },
  {
   "cell_type": "markdown",
   "metadata": {},
   "source": [
    "-The relative rank (i.e. depth) of a feature used as a decision node in a tree can be used to assess the relative importance of that feature with respect to the predictability of the target variable.  \n",
    "\n",
    "-Features used at the top of the tree contribute to the final prediction decision of a larger fraction of the input samples.  \n",
    "\n",
    "-The expected fraction of the samples they contribute to can be used as an estimate of the relative importance of the features.\n",
    "\n",
    "[Thanks scikit-learn documentation!](http://scikit-learn.org/stable/modules/ensemble.html#feature-importance-evaluation)"
   ]
  },
  {
   "cell_type": "code",
   "execution_count": 69,
   "metadata": {
    "collapsed": false
   },
   "outputs": [],
   "source": [
    "from sklearn.ensemble import RandomForestClassifier\n",
    "from sklearn.grid_search import GridSearchCV\n",
    "from collections import defaultdict\n",
    "\n",
    "#Note: min_samples_split = the minimum number of samples required to split an internal node\n",
    "param={'max_depth':[1,10],'max_features':[1,11],'min_samples_split':(25,50,75,100,200,300,500)}\n",
    "clf=RandomForestClassifier()"
   ]
  },
  {
   "cell_type": "code",
   "execution_count": 70,
   "metadata": {
    "collapsed": true
   },
   "outputs": [],
   "source": [
    "def GS_RF(x_train, y_train, parameters, model, s, title):\n",
    "    scores=['accuracy','precision','recall','f1']\n",
    "    mod_dict=defaultdict(list)\n",
    "    \n",
    "    for score in scores:\n",
    "        gs = GridSearchCV(model,parameters,cv=5,scoring=score)\n",
    "        gs.fit(x_train,y_train)\n",
    "        print score,gs.best_estimator_\n",
    "        mod_dict[score]=gs.best_estimator_ #estimator which gave highest score in the search\n",
    "    best_model=mod_dict[s] #choose model optimized for the scoring system you want\n",
    "    best_model.fit(x_train,y_train)\n",
    "    \n",
    "    importances = best_model.feature_importances_\n",
    "    indices = np.argsort(importances)[::-1]\n",
    "\n",
    "    plt.figure(figsize=(10,8))\n",
    "    plt.title(\"Feature importances based on {}: {}\".format(s,title),fontsize=15)\n",
    "    plt.bar(range(x_train.shape[1]), importances[indices], color=\"r\", align=\"center\")\n",
    "    plt.xticks(range(x_train.shape[1]), [list(x_train.columns.values)[i] for i in indices],rotation=45,fontsize=12)\n",
    "    plt.xlim([-1, x_train.shape[1]])\n",
    "    plt.show()"
   ]
  },
  {
   "cell_type": "code",
   "execution_count": 71,
   "metadata": {
    "collapsed": false
   },
   "outputs": [
    {
     "name": "stdout",
     "output_type": "stream",
     "text": [
      "accuracy RandomForestClassifier(bootstrap=True, class_weight=None, criterion='gini',\n",
      "            max_depth=10, max_features=11, max_leaf_nodes=None,\n",
      "            min_samples_leaf=1, min_samples_split=25,\n",
      "            min_weight_fraction_leaf=0.0, n_estimators=10, n_jobs=1,\n",
      "            oob_score=False, random_state=None, verbose=0,\n",
      "            warm_start=False)\n",
      "precision RandomForestClassifier(bootstrap=True, class_weight=None, criterion='gini',\n",
      "            max_depth=10, max_features=11, max_leaf_nodes=None,\n",
      "            min_samples_leaf=1, min_samples_split=25,\n",
      "            min_weight_fraction_leaf=0.0, n_estimators=10, n_jobs=1,\n",
      "            oob_score=False, random_state=None, verbose=0,\n",
      "            warm_start=False)\n",
      "recall RandomForestClassifier(bootstrap=True, class_weight=None, criterion='gini',\n",
      "            max_depth=1, max_features=1, max_leaf_nodes=None,\n",
      "            min_samples_leaf=1, min_samples_split=25,\n",
      "            min_weight_fraction_leaf=0.0, n_estimators=10, n_jobs=1,\n",
      "            oob_score=False, random_state=None, verbose=0,\n",
      "            warm_start=False)\n",
      "f1 RandomForestClassifier(bootstrap=True, class_weight=None, criterion='gini',\n",
      "            max_depth=10, max_features=11, max_leaf_nodes=None,\n",
      "            min_samples_leaf=1, min_samples_split=25,\n",
      "            min_weight_fraction_leaf=0.0, n_estimators=10, n_jobs=1,\n",
      "            oob_score=False, random_state=None, verbose=0,\n",
      "            warm_start=False)\n"
     ]
    },
    {
     "data": {
      "image/png": "[encoded data removed]",
      "text/plain": [
       "<matplotlib.figure.Figure at 0x10b8ca050>"
      ]
     },
     "metadata": {},
     "output_type": "display_data"
    }
   ],
   "source": [
    "GS_RF(x_train,y_train,param,clf,'accuracy','Red Wine Quality')"
   ]
  },
  {
   "cell_type": "markdown",
   "metadata": {},
   "source": [
    "# Variance Threshold:"
   ]
  },
  {
   "cell_type": "markdown",
   "metadata": {},
   "source": [
    "Remove all features that do not satisfy a certain variance threshold: \n",
    "    \n",
    "[Read more here](http://scikit-learn.org/stable/modules/feature_selection.html)"
   ]
  },
  {
   "cell_type": "code",
   "execution_count": 72,
   "metadata": {
    "collapsed": true
   },
   "outputs": [],
   "source": [
    "from sklearn.feature_selection import VarianceThreshold"
   ]
  },
  {
   "cell_type": "code",
   "execution_count": 74,
   "metadata": {
    "collapsed": false
   },
   "outputs": [],
   "source": [
    "#example: If you have Boolean features and want only those with 1 or 0 in > 80% of the of the samples, \n",
    "#set threshold = 0.8(1-0.8) -->Variance for Bernoulli Distribution\n",
    "\n",
    "sel = VarianceThreshold(threshold=0.5) "
   ]
  },
  {
   "cell_type": "markdown",
   "metadata": {},
   "source": [
    "Show data coming from features with variance > specified value: "
   ]
  },
  {
   "cell_type": "code",
   "execution_count": 75,
   "metadata": {
    "collapsed": false
   },
   "outputs": [],
   "source": [
    "x_new=sel.fit_transform(x,y)"
   ]
  },
  {
   "cell_type": "markdown",
   "metadata": {},
   "source": [
    "See how many features meet your threshold:"
   ]
  },
  {
   "cell_type": "code",
   "execution_count": 76,
   "metadata": {
    "collapsed": false
   },
   "outputs": [
    {
     "data": {
      "text/plain": [
       "(1599, 5)"
      ]
     },
     "execution_count": 76,
     "metadata": {},
     "output_type": "execute_result"
    }
   ],
   "source": [
    "x_new.shape"
   ]
  },
  {
   "cell_type": "code",
   "execution_count": 79,
   "metadata": {
    "collapsed": false
   },
   "outputs": [
    {
     "data": {
      "text/plain": [
       "array([[   7.4,    1.9,   11. ,   34. ,    9.4],\n",
       "       [   7.8,    2.6,   25. ,   67. ,    9.8],\n",
       "       [   7.8,    2.3,   15. ,   54. ,    9.8],\n",
       "       [  11.2,    1.9,   17. ,   60. ,    9.8],\n",
       "       [   7.4,    1.9,   11. ,   34. ,    9.4],\n",
       "       [   7.4,    1.8,   13. ,   40. ,    9.4],\n",
       "       [   7.9,    1.6,   15. ,   59. ,    9.4],\n",
       "       [   7.3,    1.2,   15. ,   21. ,   10. ],\n",
       "       [   7.8,    2. ,    9. ,   18. ,    9.5],\n",
       "       [   7.5,    6.1,   17. ,  102. ,   10.5]])"
      ]
     },
     "execution_count": 79,
     "metadata": {},
     "output_type": "execute_result"
    }
   ],
   "source": [
    "x_new[:10]"
   ]
  },
  {
   "cell_type": "code",
   "execution_count": 80,
   "metadata": {
    "collapsed": false
   },
   "outputs": [
    {
     "name": "stdout",
     "output_type": "stream",
     "text": [
      "['fixed acidity', 'residual sugar', 'free sulfur dioxide', 'total sulfur dioxide', 'alcohol']\n"
     ]
    }
   ],
   "source": [
    "print [str((x.columns.values)[i]) for i in sel.get_support(indices=True)]"
   ]
  },
  {
   "cell_type": "markdown",
   "metadata": {},
   "source": [
    "# SelectKBest:"
   ]
  },
  {
   "cell_type": "code",
   "execution_count": 86,
   "metadata": {
    "collapsed": true
   },
   "outputs": [],
   "source": [
    "from sklearn.feature_selection import SelectKBest,chi2"
   ]
  },
  {
   "cell_type": "markdown",
   "metadata": {},
   "source": [
    "Using chi2 as a scoring function:  \n",
    "\n",
    "-select the n_features with the highest values for the test chi-squared statistic from X  \n",
    "\n",
    "-Recall that the chi-square test measures dependence between stochastic variables, so using this function “weeds out”\n",
    "the features that are the most likely to be independent of class and therefore irrelevant for classification.\n",
    "\n",
    "[More info on Chi-squared](http://scikit-learn.org/stable/modules/generated/sklearn.feature_selection.chi2.html)"
   ]
  },
  {
   "cell_type": "code",
   "execution_count": 87,
   "metadata": {
    "collapsed": false
   },
   "outputs": [
    {
     "data": {
      "text/plain": [
       "array([[  7.00000000e-01,   0.00000000e+00,   1.10000000e+01,\n",
       "          3.40000000e+01,   9.40000000e+00],\n",
       "       [  8.80000000e-01,   0.00000000e+00,   2.50000000e+01,\n",
       "          6.70000000e+01,   9.80000000e+00],\n",
       "       [  7.60000000e-01,   4.00000000e-02,   1.50000000e+01,\n",
       "          5.40000000e+01,   9.80000000e+00],\n",
       "       [  2.80000000e-01,   5.60000000e-01,   1.70000000e+01,\n",
       "          6.00000000e+01,   9.80000000e+00],\n",
       "       [  7.00000000e-01,   0.00000000e+00,   1.10000000e+01,\n",
       "          3.40000000e+01,   9.40000000e+00],\n",
       "       [  6.60000000e-01,   0.00000000e+00,   1.30000000e+01,\n",
       "          4.00000000e+01,   9.40000000e+00],\n",
       "       [  6.00000000e-01,   6.00000000e-02,   1.50000000e+01,\n",
       "          5.90000000e+01,   9.40000000e+00],\n",
       "       [  6.50000000e-01,   0.00000000e+00,   1.50000000e+01,\n",
       "          2.10000000e+01,   1.00000000e+01],\n",
       "       [  5.80000000e-01,   2.00000000e-02,   9.00000000e+00,\n",
       "          1.80000000e+01,   9.50000000e+00],\n",
       "       [  5.00000000e-01,   3.60000000e-01,   1.70000000e+01,\n",
       "          1.02000000e+02,   1.05000000e+01]])"
      ]
     },
     "execution_count": 87,
     "metadata": {},
     "output_type": "execute_result"
    }
   ],
   "source": [
    "a=SelectKBest(chi2, k=5)\n",
    "a.fit_transform(x, y)[:10]"
   ]
  },
  {
   "cell_type": "code",
   "execution_count": 88,
   "metadata": {
    "collapsed": false
   },
   "outputs": [
    {
     "data": {
      "text/plain": [
       "array([  5.26525668e+00,   1.00297102e+01,   5.66670287e+00,\n",
       "         5.84022628e-03,   4.85195914e-01,   4.20059068e+01,\n",
       "         2.00230590e+03,   1.44572025e-04,   1.22551075e-04,\n",
       "         3.31761735e+00,   3.29086327e+01])"
      ]
     },
     "execution_count": 88,
     "metadata": {},
     "output_type": "execute_result"
    }
   ],
   "source": [
    "a.scores_"
   ]
  },
  {
   "cell_type": "code",
   "execution_count": 89,
   "metadata": {
    "collapsed": false
   },
   "outputs": [
    {
     "data": {
      "text/plain": [
       "array([  2.17552144e-02,   1.54035272e-03,   1.72899237e-02,\n",
       "         9.39083866e-01,   4.86078160e-01,   9.09981237e-11,\n",
       "         0.00000000e+00,   9.90406618e-01,   9.91167376e-01,\n",
       "         6.85410969e-02,   9.65933872e-09])"
      ]
     },
     "execution_count": 89,
     "metadata": {},
     "output_type": "execute_result"
    }
   ],
   "source": [
    "a.pvalues_"
   ]
  },
  {
   "cell_type": "code",
   "execution_count": 90,
   "metadata": {
    "collapsed": false
   },
   "outputs": [],
   "source": [
    "indices_s = np.argsort(a.scores_)[::-1]\n",
    "indices_p = np.argsort(a.pvalues_)"
   ]
  },
  {
   "cell_type": "code",
   "execution_count": 93,
   "metadata": {
    "collapsed": false
   },
   "outputs": [
    {
     "data": {
      "image/png": "[encoded data removed]",
      "text/plain": [
       "<matplotlib.figure.Figure at 0x10e9cfe90>"
      ]
     },
     "metadata": {},
     "output_type": "display_data"
    }
   ],
   "source": [
    "\"\"\"plt.figure(figsize=(12,8))\n",
    "#plt.subplot(1,2,1)\n",
    "plt.title(\"SelectKBest (n=5) SCORES with chi-squared test\",fontsize=12)\n",
    "plt.bar(range(x_train.shape[1]), a.scores_[indices_s], color=\"r\", align=\"center\")\n",
    "plt.xticks(range(x_train.shape[1]), [list(x_train.columns.values)[i] for i in indices_s],rotation=45,fontsize=12)\n",
    "plt.xlim([-1, x_train.shape[1]])\n",
    "plt.xlabel('Score')\"\"\"\n",
    "\n",
    "plt.figure(figsize=(10,6))\n",
    "plt.title(\"SelectKBest (n=5) P-VALUES with chi-squared test\",fontsize=12)\n",
    "plt.bar(range(x_train.shape[1]), a.pvalues_[indices_p], color=\"b\", align=\"center\")\n",
    "plt.xticks(range(x_train.shape[1]), [list(x_train.columns.values)[i] for i in indices_p],rotation=45,fontsize=12)\n",
    "plt.xlim([-1, x_train.shape[1]])\n",
    "plt.xlabel('p-value')\n",
    "\n",
    "plt.tight_layout()"
   ]
  },
  {
   "cell_type": "markdown",
   "metadata": {},
   "source": [
    "# SelectFromModel:"
   ]
  },
  {
   "cell_type": "markdown",
   "metadata": {},
   "source": [
    "Selects non-zero coefficients from linear models penalized with the L1 norm.\n",
    "\n",
    "[More info here](http://scikit-learn.org/stable/modules/feature_selection.html#feature-selection-using-selectfrommodel)"
   ]
  },
  {
   "cell_type": "code",
   "execution_count": 32,
   "metadata": {
    "collapsed": true
   },
   "outputs": [],
   "source": [
    "from sklearn.feature_selection import SelectFromModel\n",
    "from sklearn.linear_model import LogisticRegression\n",
    "from sklearn.svm import LinearSVC"
   ]
  },
  {
   "cell_type": "markdown",
   "metadata": {},
   "source": [
    "With Logistic Regression:"
   ]
  },
  {
   "cell_type": "code",
   "execution_count": 33,
   "metadata": {
    "collapsed": false
   },
   "outputs": [
    {
     "data": {
      "text/plain": [
       "(1599, 3)"
      ]
     },
     "execution_count": 33,
     "metadata": {},
     "output_type": "execute_result"
    }
   ],
   "source": [
    "rgr = LogisticRegression(C=0.01, penalty=\"l1\", dual=False).fit(x, y) \n",
    "#penalty is L1 regularization\n",
    "#C is inverse of regularization strength (Smaller values have stronger regularization)\n",
    "\n",
    "LRmodel = SelectFromModel(rgr, prefit=True)\n",
    "x_new = LRmodel.transform(x)\n",
    "x_new.shape"
   ]
  },
  {
   "cell_type": "code",
   "execution_count": 34,
   "metadata": {
    "collapsed": false
   },
   "outputs": [
    {
     "data": {
      "text/plain": [
       "array([[  11. ,   34. ,    9.4],\n",
       "       [  25. ,   67. ,    9.8],\n",
       "       [  15. ,   54. ,    9.8],\n",
       "       [  17. ,   60. ,    9.8],\n",
       "       [  11. ,   34. ,    9.4],\n",
       "       [  13. ,   40. ,    9.4],\n",
       "       [  15. ,   59. ,    9.4],\n",
       "       [  15. ,   21. ,   10. ],\n",
       "       [   9. ,   18. ,    9.5],\n",
       "       [  17. ,  102. ,   10.5]])"
      ]
     },
     "execution_count": 34,
     "metadata": {},
     "output_type": "execute_result"
    }
   ],
   "source": [
    "x_new[:10]"
   ]
  },
  {
   "cell_type": "code",
   "execution_count": 35,
   "metadata": {
    "collapsed": false
   },
   "outputs": [
    {
     "name": "stdout",
     "output_type": "stream",
     "text": [
      "['free sulfur dioxide', 'total sulfur dioxide', 'alcohol']\n"
     ]
    }
   ],
   "source": [
    "print [str((x.columns.values)[i]) for i in LRmodel.get_support(indices=True)]"
   ]
  },
  {
   "cell_type": "code",
   "execution_count": 36,
   "metadata": {
    "collapsed": false
   },
   "outputs": [
    {
     "data": {
      "text/html": [
       "<div>\n",
       "<table border=\"1\" class=\"dataframe\">\n",
       "  <thead>\n",
       "    <tr style=\"text-align: right;\">\n",
       "      <th></th>\n",
       "      <th>L1 Regularization coefficients</th>\n",
       "    </tr>\n",
       "  </thead>\n",
       "  <tbody>\n",
       "    <tr>\n",
       "      <th>fixed acidity</th>\n",
       "      <td>0.000000</td>\n",
       "    </tr>\n",
       "    <tr>\n",
       "      <th>volatile acidity</th>\n",
       "      <td>0.000000</td>\n",
       "    </tr>\n",
       "    <tr>\n",
       "      <th>citric acid</th>\n",
       "      <td>0.000000</td>\n",
       "    </tr>\n",
       "    <tr>\n",
       "      <th>residual sugar</th>\n",
       "      <td>0.000000</td>\n",
       "    </tr>\n",
       "    <tr>\n",
       "      <th>chlorides</th>\n",
       "      <td>0.000000</td>\n",
       "    </tr>\n",
       "    <tr>\n",
       "      <th>free sulfur dioxide</th>\n",
       "      <td>0.025900</td>\n",
       "    </tr>\n",
       "    <tr>\n",
       "      <th>total sulfur dioxide</th>\n",
       "      <td>-0.022863</td>\n",
       "    </tr>\n",
       "    <tr>\n",
       "      <th>density</th>\n",
       "      <td>0.000000</td>\n",
       "    </tr>\n",
       "    <tr>\n",
       "      <th>pH</th>\n",
       "      <td>0.000000</td>\n",
       "    </tr>\n",
       "    <tr>\n",
       "      <th>sulphates</th>\n",
       "      <td>0.000000</td>\n",
       "    </tr>\n",
       "    <tr>\n",
       "      <th>alcohol</th>\n",
       "      <td>0.079022</td>\n",
       "    </tr>\n",
       "  </tbody>\n",
       "</table>\n",
       "</div>"
      ],
      "text/plain": [
       "                      L1 Regularization coefficients\n",
       "fixed acidity                               0.000000\n",
       "volatile acidity                            0.000000\n",
       "citric acid                                 0.000000\n",
       "residual sugar                              0.000000\n",
       "chlorides                                   0.000000\n",
       "free sulfur dioxide                         0.025900\n",
       "total sulfur dioxide                       -0.022863\n",
       "density                                     0.000000\n",
       "pH                                          0.000000\n",
       "sulphates                                   0.000000\n",
       "alcohol                                     0.079022"
      ]
     },
     "execution_count": 36,
     "metadata": {},
     "output_type": "execute_result"
    }
   ],
   "source": [
    "lrc=pd.DataFrame({\"L1 Regularization coefficients\":np.concatenate(rgr.coef_)},index=[str(i) for i in x.columns.values])\n",
    "lrc"
   ]
  },
  {
   "cell_type": "code",
   "execution_count": 37,
   "metadata": {
    "collapsed": false
   },
   "outputs": [
    {
     "data": {
      "text/plain": [
       "<matplotlib.axes._subplots.AxesSubplot at 0x10bccfe90>"
      ]
     },
     "execution_count": 37,
     "metadata": {},
     "output_type": "execute_result"
    },
    {
     "data": {
      "image/png": "[encoded data removed]",
      "text/plain": [
       "<matplotlib.figure.Figure at 0x10bd959d0>"
      ]
     },
     "metadata": {},
     "output_type": "display_data"
    }
   ],
   "source": [
    "lrc.plot(kind='bar')"
   ]
  },
  {
   "cell_type": "markdown",
   "metadata": {},
   "source": [
    "With SVM:\n",
    "\n",
    "[More on LinearSVC here](http://scikit-learn.org/stable/modules/generated/sklearn.svm.LinearSVC.html)"
   ]
  },
  {
   "cell_type": "code",
   "execution_count": 94,
   "metadata": {
    "collapsed": false
   },
   "outputs": [
    {
     "data": {
      "text/plain": [
       "(1599, 6)"
      ]
     },
     "execution_count": 94,
     "metadata": {},
     "output_type": "execute_result"
    }
   ],
   "source": [
    "supvec=LinearSVC(C=0.01,penalty=\"l1\", dual=False).fit(x,y)\n",
    "SVCmodel = SelectFromModel(supvec, prefit=True)\n",
    "x_new2 = SVCmodel.transform(x)\n",
    "x_new2.shape"
   ]
  },
  {
   "cell_type": "code",
   "execution_count": 95,
   "metadata": {
    "collapsed": false
   },
   "outputs": [
    {
     "data": {
      "text/plain": [
       "array([[   7.4 ,    0.7 ,   11.  ,   34.  ,    3.51,    9.4 ],\n",
       "       [   7.8 ,    0.88,   25.  ,   67.  ,    3.2 ,    9.8 ],\n",
       "       [   7.8 ,    0.76,   15.  ,   54.  ,    3.26,    9.8 ],\n",
       "       [  11.2 ,    0.28,   17.  ,   60.  ,    3.16,    9.8 ],\n",
       "       [   7.4 ,    0.7 ,   11.  ,   34.  ,    3.51,    9.4 ],\n",
       "       [   7.4 ,    0.66,   13.  ,   40.  ,    3.51,    9.4 ],\n",
       "       [   7.9 ,    0.6 ,   15.  ,   59.  ,    3.3 ,    9.4 ],\n",
       "       [   7.3 ,    0.65,   15.  ,   21.  ,    3.39,   10.  ],\n",
       "       [   7.8 ,    0.58,    9.  ,   18.  ,    3.36,    9.5 ],\n",
       "       [   7.5 ,    0.5 ,   17.  ,  102.  ,    3.35,   10.5 ]])"
      ]
     },
     "execution_count": 95,
     "metadata": {},
     "output_type": "execute_result"
    }
   ],
   "source": [
    "x_new2[:10]"
   ]
  },
  {
   "cell_type": "code",
   "execution_count": 96,
   "metadata": {
    "collapsed": false
   },
   "outputs": [
    {
     "data": {
      "text/html": [
       "<div>\n",
       "<table border=\"1\" class=\"dataframe\">\n",
       "  <thead>\n",
       "    <tr style=\"text-align: right;\">\n",
       "      <th></th>\n",
       "      <th>Linear SVC Regularization coefficients</th>\n",
       "    </tr>\n",
       "  </thead>\n",
       "  <tbody>\n",
       "    <tr>\n",
       "      <th>fixed acidity</th>\n",
       "      <td>-0.008470</td>\n",
       "    </tr>\n",
       "    <tr>\n",
       "      <th>volatile acidity</th>\n",
       "      <td>-0.481217</td>\n",
       "    </tr>\n",
       "    <tr>\n",
       "      <th>citric acid</th>\n",
       "      <td>0.000000</td>\n",
       "    </tr>\n",
       "    <tr>\n",
       "      <th>residual sugar</th>\n",
       "      <td>0.000000</td>\n",
       "    </tr>\n",
       "    <tr>\n",
       "      <th>chlorides</th>\n",
       "      <td>0.000000</td>\n",
       "    </tr>\n",
       "    <tr>\n",
       "      <th>free sulfur dioxide</th>\n",
       "      <td>0.012025</td>\n",
       "    </tr>\n",
       "    <tr>\n",
       "      <th>total sulfur dioxide</th>\n",
       "      <td>-0.008457</td>\n",
       "    </tr>\n",
       "    <tr>\n",
       "      <th>density</th>\n",
       "      <td>0.000000</td>\n",
       "    </tr>\n",
       "    <tr>\n",
       "      <th>pH</th>\n",
       "      <td>-0.566169</td>\n",
       "    </tr>\n",
       "    <tr>\n",
       "      <th>sulphates</th>\n",
       "      <td>0.000000</td>\n",
       "    </tr>\n",
       "    <tr>\n",
       "      <th>alcohol</th>\n",
       "      <td>0.238042</td>\n",
       "    </tr>\n",
       "  </tbody>\n",
       "</table>\n",
       "</div>"
      ],
      "text/plain": [
       "                      Linear SVC Regularization coefficients\n",
       "fixed acidity                                      -0.008470\n",
       "volatile acidity                                   -0.481217\n",
       "citric acid                                         0.000000\n",
       "residual sugar                                      0.000000\n",
       "chlorides                                           0.000000\n",
       "free sulfur dioxide                                 0.012025\n",
       "total sulfur dioxide                               -0.008457\n",
       "density                                             0.000000\n",
       "pH                                                 -0.566169\n",
       "sulphates                                           0.000000\n",
       "alcohol                                             0.238042"
      ]
     },
     "execution_count": 96,
     "metadata": {},
     "output_type": "execute_result"
    }
   ],
   "source": [
    "lsvc=pd.DataFrame({\"Linear SVC Regularization coefficients\":np.concatenate(supvec.coef_)},index=[str(i) for i in x.columns.values])\n",
    "lsvc"
   ]
  },
  {
   "cell_type": "code",
   "execution_count": 97,
   "metadata": {
    "collapsed": false
   },
   "outputs": [
    {
     "data": {
      "text/plain": [
       "<matplotlib.axes._subplots.AxesSubplot at 0x10bc30550>"
      ]
     },
     "execution_count": 97,
     "metadata": {},
     "output_type": "execute_result"
    },
    {
     "data": {
      "image/png": "[encoded data removed]",
      "text/plain": [
       "<matplotlib.figure.Figure at 0x10e98b290>"
      ]
     },
     "metadata": {},
     "output_type": "display_data"
    }
   ],
   "source": [
    "lsvc.plot(kind='bar')"
   ]
  },
  {
   "cell_type": "markdown",
   "metadata": {},
   "source": [
    "**NOTE**: This can also be applied to regression cases with linear_model.Lasso"
   ]
  },
  {
   "cell_type": "markdown",
   "metadata": {},
   "source": [
    "# Recursive Feature Elimination:"
   ]
  },
  {
   "cell_type": "code",
   "execution_count": 98,
   "metadata": {
    "collapsed": true
   },
   "outputs": [],
   "source": [
    "from sklearn.feature_selection import RFE"
   ]
  },
  {
   "cell_type": "markdown",
   "metadata": {},
   "source": [
    "-RFE selects features by recursively considering smaller and smaller sets of features.  \n",
    "-Estimator is trained on the initial set of features and weights are assigned to each one of them.  \n",
    "-Features whose absolute weights are the smallest are pruned from the current set features.  \n",
    "-That procedure is recursively repeated on the pruned set until the desired number of features to select is eventually reached.\n",
    "\n",
    "[More info on RFE here](http://scikit-learn.org/stable/modules/generated/sklearn.feature_selection.RFE.html)"
   ]
  },
  {
   "cell_type": "code",
   "execution_count": 99,
   "metadata": {
    "collapsed": true
   },
   "outputs": [],
   "source": [
    "#Estimator must have a fit method that updates a coef_ attribute (can also use SVC). \n",
    "#Important features must correspond to high absolute values in the coef_ array\n",
    "\n",
    "rfe = RFE(LogisticRegression(), 5)\n",
    "rfe = rfe.fit(x, y)"
   ]
  },
  {
   "cell_type": "code",
   "execution_count": 100,
   "metadata": {
    "collapsed": false
   },
   "outputs": [
    {
     "name": "stdout",
     "output_type": "stream",
     "text": [
      "[False  True False False  True False False  True  True  True False]\n",
      "[7 1 2 4 1 5 6 1 1 1 3]\n"
     ]
    }
   ],
   "source": [
    "print(rfe.support_)\n",
    "print(rfe.ranking_) #selected features are assigned Rank 1"
   ]
  },
  {
   "cell_type": "code",
   "execution_count": 101,
   "metadata": {
    "collapsed": false
   },
   "outputs": [
    {
     "data": {
      "text/plain": [
       "['volatile acidity', 'chlorides', 'density', 'pH', 'sulphates']"
      ]
     },
     "execution_count": 101,
     "metadata": {},
     "output_type": "execute_result"
    }
   ],
   "source": [
    "[str((x.columns.values)[i]) for i in range(len(rfe.ranking_)) if rfe.ranking_[i]==1]"
   ]
  },
  {
   "cell_type": "markdown",
   "metadata": {},
   "source": [
    "# Pearson Correlation:"
   ]
  },
  {
   "cell_type": "code",
   "execution_count": 46,
   "metadata": {
    "collapsed": true
   },
   "outputs": [],
   "source": [
    "from scipy.stats import pearsonr\n",
    "import numpy as np"
   ]
  },
  {
   "cell_type": "markdown",
   "metadata": {},
   "source": [
    "-The Pearson correlation coefficient measures the linear relationship between two datasets.  \n",
    "(Assuming data set is normally distributed)  \n",
    "\n",
    "-Varies between -1 and +1 with 0 implying no correlation.  \n",
    "**NOTE**: Pearson Correlation of 0 does not imply independence.  \n",
    "\n",
    "-Positive correlations imply that as x increases, so does y.  \n",
    "-Negative correlations imply that as x increases, y decreases.  \n",
    "\n",
    "-The p-value roughly indicates the probability of an uncorrelated system producing datasets that have a Pearson correlation at least as extreme as the one computed from these datasets. \n",
    "\n",
    "[Pearson Correlation refresher](https://en.wikipedia.org/wiki/Pearson_product-moment_correlation_coefficient)"
   ]
  },
  {
   "cell_type": "code",
   "execution_count": 102,
   "metadata": {
    "collapsed": false
   },
   "outputs": [
    {
     "data": {
      "text/html": [
       "<div>\n",
       "<table border=\"1\" class=\"dataframe\">\n",
       "  <thead>\n",
       "    <tr style=\"text-align: right;\">\n",
       "      <th></th>\n",
       "      <th>Pearson Correlation</th>\n",
       "      <th>p-value</th>\n",
       "    </tr>\n",
       "  </thead>\n",
       "  <tbody>\n",
       "    <tr>\n",
       "      <th>fixed acidity</th>\n",
       "      <td>0.095093</td>\n",
       "      <td>1.399766e-04</td>\n",
       "    </tr>\n",
       "    <tr>\n",
       "      <th>volatile acidity</th>\n",
       "      <td>-0.321441</td>\n",
       "      <td>9.336621e-40</td>\n",
       "    </tr>\n",
       "    <tr>\n",
       "      <th>citric acid</th>\n",
       "      <td>0.159129</td>\n",
       "      <td>1.563717e-10</td>\n",
       "    </tr>\n",
       "    <tr>\n",
       "      <th>residual sugar</th>\n",
       "      <td>-0.002160</td>\n",
       "      <td>9.312092e-01</td>\n",
       "    </tr>\n",
       "    <tr>\n",
       "      <th>chlorides</th>\n",
       "      <td>-0.109494</td>\n",
       "      <td>1.143103e-05</td>\n",
       "    </tr>\n",
       "    <tr>\n",
       "      <th>free sulfur dioxide</th>\n",
       "      <td>-0.061757</td>\n",
       "      <td>1.351417e-02</td>\n",
       "    </tr>\n",
       "    <tr>\n",
       "      <th>total sulfur dioxide</th>\n",
       "      <td>-0.231963</td>\n",
       "      <td>5.623796e-21</td>\n",
       "    </tr>\n",
       "    <tr>\n",
       "      <th>density</th>\n",
       "      <td>-0.159110</td>\n",
       "      <td>1.571846e-10</td>\n",
       "    </tr>\n",
       "    <tr>\n",
       "      <th>pH</th>\n",
       "      <td>-0.003264</td>\n",
       "      <td>8.962367e-01</td>\n",
       "    </tr>\n",
       "    <tr>\n",
       "      <th>sulphates</th>\n",
       "      <td>0.218072</td>\n",
       "      <td>1.147929e-18</td>\n",
       "    </tr>\n",
       "    <tr>\n",
       "      <th>alcohol</th>\n",
       "      <td>0.434751</td>\n",
       "      <td>1.023980e-74</td>\n",
       "    </tr>\n",
       "  </tbody>\n",
       "</table>\n",
       "</div>"
      ],
      "text/plain": [
       "                      Pearson Correlation       p-value\n",
       "fixed acidity                    0.095093  1.399766e-04\n",
       "volatile acidity                -0.321441  9.336621e-40\n",
       "citric acid                      0.159129  1.563717e-10\n",
       "residual sugar                  -0.002160  9.312092e-01\n",
       "chlorides                       -0.109494  1.143103e-05\n",
       "free sulfur dioxide             -0.061757  1.351417e-02\n",
       "total sulfur dioxide            -0.231963  5.623796e-21\n",
       "density                         -0.159110  1.571846e-10\n",
       "pH                              -0.003264  8.962367e-01\n",
       "sulphates                        0.218072  1.147929e-18\n",
       "alcohol                          0.434751  1.023980e-74"
      ]
     },
     "execution_count": 102,
     "metadata": {},
     "output_type": "execute_result"
    }
   ],
   "source": [
    "pearcorr=[]\n",
    "pval=[]\n",
    "for i in range(len(x.columns)):\n",
    "    pearcorr.append(pearsonr(x.iloc[:,i],y)[0])\n",
    "    pval.append(pearsonr(x.iloc[:,i],y)[1])\n",
    "pcorr=pd.DataFrame({\"Pearson Correlation\":pearcorr,\"p-value\":pval},index=[str(i) for i in x.columns.values])\n",
    "pcorr"
   ]
  },
  {
   "cell_type": "code",
   "execution_count": 105,
   "metadata": {
    "collapsed": false
   },
   "outputs": [
    {
     "data": {
      "text/plain": [
       "<matplotlib.axes._subplots.AxesSubplot at 0x10e4a5c10>"
      ]
     },
     "execution_count": 105,
     "metadata": {},
     "output_type": "execute_result"
    },
    {
     "data": {
      "image/png": "[encoded data removed]",
      "text/plain": [
       "<matplotlib.figure.Figure at 0x10e497b10>"
      ]
     },
     "metadata": {},
     "output_type": "display_data"
    }
   ],
   "source": [
    "pcorr['Pearson Correlation'].plot(kind='bar')"
   ]
  },
  {
   "cell_type": "markdown",
   "metadata": {},
   "source": [
    "# Maximal Information Coefficient:"
   ]
  },
  {
   "cell_type": "code",
   "execution_count": 49,
   "metadata": {
    "collapsed": false
   },
   "outputs": [],
   "source": [
    "#!pip install minepy"
   ]
  },
  {
   "cell_type": "markdown",
   "metadata": {},
   "source": [
    "-Maximal information coefficient searches for optimal binning and turns mutual information score into a metric that lies in range [0;1].  \n",
    "(Mutual information measures mutual dependence between variables, i.e. quantifies the \"amount of information\" obtained about one variable through the other variable).\n",
    "\n",
    "[More info on MIC here](http://blog.datadive.net/selecting-good-features-part-i-univariate-selection/)  \n",
    "[Mutual Information refresher](https://en.wikipedia.org/wiki/Mutual_information)"
   ]
  },
  {
   "cell_type": "code",
   "execution_count": 106,
   "metadata": {
    "collapsed": false
   },
   "outputs": [],
   "source": [
    "from minepy import MINE\n",
    "m=MINE()"
   ]
  },
  {
   "cell_type": "code",
   "execution_count": 107,
   "metadata": {
    "collapsed": false
   },
   "outputs": [
    {
     "data": {
      "text/html": [
       "<div>\n",
       "<table border=\"1\" class=\"dataframe\">\n",
       "  <thead>\n",
       "    <tr style=\"text-align: right;\">\n",
       "      <th></th>\n",
       "      <th>Maximal Information Coefficient</th>\n",
       "    </tr>\n",
       "  </thead>\n",
       "  <tbody>\n",
       "    <tr>\n",
       "      <th>fixed acidity</th>\n",
       "      <td>0.069389</td>\n",
       "    </tr>\n",
       "    <tr>\n",
       "      <th>volatile acidity</th>\n",
       "      <td>0.147521</td>\n",
       "    </tr>\n",
       "    <tr>\n",
       "      <th>citric acid</th>\n",
       "      <td>0.077837</td>\n",
       "    </tr>\n",
       "    <tr>\n",
       "      <th>residual sugar</th>\n",
       "      <td>0.063269</td>\n",
       "    </tr>\n",
       "    <tr>\n",
       "      <th>chlorides</th>\n",
       "      <td>0.091436</td>\n",
       "    </tr>\n",
       "    <tr>\n",
       "      <th>free sulfur dioxide</th>\n",
       "      <td>0.034867</td>\n",
       "    </tr>\n",
       "    <tr>\n",
       "      <th>total sulfur dioxide</th>\n",
       "      <td>0.131426</td>\n",
       "    </tr>\n",
       "    <tr>\n",
       "      <th>density</th>\n",
       "      <td>0.136607</td>\n",
       "    </tr>\n",
       "    <tr>\n",
       "      <th>pH</th>\n",
       "      <td>0.046885</td>\n",
       "    </tr>\n",
       "    <tr>\n",
       "      <th>sulphates</th>\n",
       "      <td>0.150187</td>\n",
       "    </tr>\n",
       "    <tr>\n",
       "      <th>alcohol</th>\n",
       "      <td>0.210051</td>\n",
       "    </tr>\n",
       "  </tbody>\n",
       "</table>\n",
       "</div>"
      ],
      "text/plain": [
       "                      Maximal Information Coefficient\n",
       "fixed acidity                                0.069389\n",
       "volatile acidity                             0.147521\n",
       "citric acid                                  0.077837\n",
       "residual sugar                               0.063269\n",
       "chlorides                                    0.091436\n",
       "free sulfur dioxide                          0.034867\n",
       "total sulfur dioxide                         0.131426\n",
       "density                                      0.136607\n",
       "pH                                           0.046885\n",
       "sulphates                                    0.150187\n",
       "alcohol                                      0.210051"
      ]
     },
     "execution_count": 107,
     "metadata": {},
     "output_type": "execute_result"
    }
   ],
   "source": [
    "scores=[]\n",
    "for i in range(len(x.columns)):\n",
    "    m.compute_score(x.iloc[:,i],y)\n",
    "    scores.append(m.mic())\n",
    "maxIC=pd.DataFrame({\"Maximal Information Coefficient\":scores},index=[str(i) for i in x.columns.values])\n",
    "maxIC"
   ]
  },
  {
   "cell_type": "code",
   "execution_count": 108,
   "metadata": {
    "collapsed": false
   },
   "outputs": [
    {
     "data": {
      "text/plain": [
       "<matplotlib.axes._subplots.AxesSubplot at 0x10e8fc390>"
      ]
     },
     "execution_count": 108,
     "metadata": {},
     "output_type": "execute_result"
    },
    {
     "data": {
      "image/png": "[encoded data removed]",
      "text/plain": [
       "<matplotlib.figure.Figure at 0x10ef110d0>"
      ]
     },
     "metadata": {},
     "output_type": "display_data"
    }
   ],
   "source": [
    "maxIC.plot(kind='bar')"
   ]
  },
  {
   "cell_type": "markdown",
   "metadata": {},
   "source": [
    "# Model Based Ranking (Univariate Feature Selection):"
   ]
  },
  {
   "cell_type": "code",
   "execution_count": 53,
   "metadata": {
    "collapsed": true
   },
   "outputs": [],
   "source": [
    "from sklearn.cross_validation import cross_val_score"
   ]
  },
  {
   "cell_type": "markdown",
   "metadata": {},
   "source": [
    "Determine each feature's contribution to the accuracy (or other scoring method) of your predictions: \n",
    "\n",
    "[More info here](http://blog.datadive.net/selecting-good-features-part-i-univariate-selection/)"
   ]
  },
  {
   "cell_type": "code",
   "execution_count": 54,
   "metadata": {
    "collapsed": false
   },
   "outputs": [
    {
     "data": {
      "text/html": [
       "<div>\n",
       "<table border=\"1\" class=\"dataframe\">\n",
       "  <thead>\n",
       "    <tr style=\"text-align: right;\">\n",
       "      <th></th>\n",
       "      <th>CV Score</th>\n",
       "    </tr>\n",
       "  </thead>\n",
       "  <tbody>\n",
       "    <tr>\n",
       "      <th>fixed acidity</th>\n",
       "      <td>0.516532</td>\n",
       "    </tr>\n",
       "    <tr>\n",
       "      <th>volatile acidity</th>\n",
       "      <td>0.582853</td>\n",
       "    </tr>\n",
       "    <tr>\n",
       "      <th>citric acid</th>\n",
       "      <td>0.562849</td>\n",
       "    </tr>\n",
       "    <tr>\n",
       "      <th>residual sugar</th>\n",
       "      <td>0.522198</td>\n",
       "    </tr>\n",
       "    <tr>\n",
       "      <th>chlorides</th>\n",
       "      <td>0.527859</td>\n",
       "    </tr>\n",
       "    <tr>\n",
       "      <th>free sulfur dioxide</th>\n",
       "      <td>0.500300</td>\n",
       "    </tr>\n",
       "    <tr>\n",
       "      <th>total sulfur dioxide</th>\n",
       "      <td>0.542808</td>\n",
       "    </tr>\n",
       "    <tr>\n",
       "      <th>density</th>\n",
       "      <td>0.505921</td>\n",
       "    </tr>\n",
       "    <tr>\n",
       "      <th>pH</th>\n",
       "      <td>0.495298</td>\n",
       "    </tr>\n",
       "    <tr>\n",
       "      <th>sulphates</th>\n",
       "      <td>0.651683</td>\n",
       "    </tr>\n",
       "    <tr>\n",
       "      <th>alcohol</th>\n",
       "      <td>0.673529</td>\n",
       "    </tr>\n",
       "  </tbody>\n",
       "</table>\n",
       "</div>"
      ],
      "text/plain": [
       "                      CV Score\n",
       "fixed acidity         0.516532\n",
       "volatile acidity      0.582853\n",
       "citric acid           0.562849\n",
       "residual sugar        0.522198\n",
       "chlorides             0.527859\n",
       "free sulfur dioxide   0.500300\n",
       "total sulfur dioxide  0.542808\n",
       "density               0.505921\n",
       "pH                    0.495298\n",
       "sulphates             0.651683\n",
       "alcohol               0.673529"
      ]
     },
     "execution_count": 54,
     "metadata": {},
     "output_type": "execute_result"
    }
   ],
   "source": [
    "scores = []\n",
    "for i in range(len(x.columns)):\n",
    "    scores.append(np.mean(cross_val_score(RandomForestClassifier(), x.iloc[:,i:i+1], y, scoring=\"accuracy\", cv=5)))\n",
    "CVDF=pd.DataFrame({\"CV Score\":scores},index=[str(i) for i in x.columns.values])\n",
    "CVDF"
   ]
  },
  {
   "cell_type": "code",
   "execution_count": 55,
   "metadata": {
    "collapsed": false
   },
   "outputs": [
    {
     "data": {
      "text/plain": [
       "<matplotlib.axes._subplots.AxesSubplot at 0x10d777290>"
      ]
     },
     "execution_count": 55,
     "metadata": {},
     "output_type": "execute_result"
    },
    {
     "data": {
      "image/png": "[encoded data removed]",
      "text/plain": [
       "<matplotlib.figure.Figure at 0x10e017890>"
      ]
     },
     "metadata": {},
     "output_type": "display_data"
    }
   ],
   "source": [
    "CVDF.plot(kind='bar')"
   ]
  },
  {
   "cell_type": "code",
   "execution_count": null,
   "metadata": {
    "collapsed": true
   },
   "outputs": [],
   "source": []
  }
 ],
 "metadata": {
  "kernelspec": {
   "display_name": "Python 2",
   "language": "python",
   "name": "python2"
  },
  "language_info": {
   "codemirror_mode": {
    "name": "ipython",
    "version": 2
   },
   "file_extension": ".py",
   "mimetype": "text/x-python",
   "name": "python",
   "nbconvert_exporter": "python",
   "pygments_lexer": "ipython2",
   "version": "2.7.11"
  }
 },
 "nbformat": 4,
 "nbformat_minor": 0
}
